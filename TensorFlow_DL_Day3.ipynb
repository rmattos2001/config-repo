{
  "nbformat": 4,
  "nbformat_minor": 0,
  "metadata": {
    "colab": {
      "name": "Copia de DL_Day3.ipynb",
      "provenance": [],
      "collapsed_sections": [],
      "include_colab_link": true
    },
    "kernelspec": {
      "display_name": "Python 3",
      "name": "python3"
    }
  },
  "cells": [
    {
      "cell_type": "markdown",
      "metadata": {
        "id": "view-in-github",
        "colab_type": "text"
      },
      "source": [
        "<a href=\"https://colab.research.google.com/github/rmattos2001/config-repo/blob/master/TensorFlow_DL_Day3.ipynb\" target=\"_parent\"><img src=\"https://colab.research.google.com/assets/colab-badge.svg\" alt=\"Open In Colab\"/></a>"
      ]
    },
    {
      "cell_type": "markdown",
      "metadata": {
        "id": "qFdPvlXBOdUN"
      },
      "source": [
        "# Introduction to Tensors"
      ]
    },
    {
      "cell_type": "code",
      "metadata": {
        "id": "AL2hzxorJiWy"
      },
      "source": [
        "import tensorflow as tf\n",
        "import numpy as np"
      ],
      "execution_count": null,
      "outputs": []
    },
    {
      "cell_type": "markdown",
      "metadata": {
        "id": "VQ3s2J8Vgowq"
      },
      "source": [
        "Los tensores son arreglos multidimensionales con un tipo uniforme (llamado `dtype`). Puede ver todos los `dtypes` admitidos en `tf.dtypes.DType`.\n",
        "\n",
        "Si está familiarizado con [NumPy](https://dphi.tech/lms/learn/introduction-to-numpy), los tensores son (más o menos) como `np.arrays`.\n",
        "\n",
        "Todos los tensores son inmutables como los números y las cadenas de Python: nunca puede actualizar el contenido de un tensor, solo puede crear uno nuevo.\n",
        "\n"
      ]
    },
    {
      "cell_type": "markdown",
      "metadata": {
        "id": "DRK5-9EpYbzG"
      },
      "source": [
        "## Conceptos Basicos\n",
        "\n",
        "Antes de crear tensores básicos, comprendamos algunos conceptos básicos. "
      ]
    },
    {
      "cell_type": "markdown",
      "metadata": {
        "id": "gC1tqBu7MFAP"
      },
      "source": [
        "### **Scalar, Vector, Matrix 101**\n",
        "\n",
        "\n",
        "![image name](https://dphi-courses.s3.ap-south-1.amazonaws.com/tensor.jpeg)\n",
        "\n",
        "* A scalar es solo un numero\n",
        "* A vector es un arreglo de numeros.\n",
        "* A matrix is a 2-D array (arreglo bidimensional)\n",
        "* A tensor is a n-dimensional array(arreglo n-bidimensional) with n >2 \n",
        "\n"
      ]
    },
    {
      "cell_type": "code",
      "source": [
        ""
      ],
      "metadata": {
        "id": "vCQPvkcY6Gmv"
      },
      "execution_count": null,
      "outputs": []
    },
    {
      "cell_type": "markdown",
      "metadata": {
        "id": "b1RGlZmv4bQb"
      },
      "source": [
        "###  **Comprensión de la Dimensión - Indexes - Rank - Axes - Shape**\n",
        "\n",
        "1.   List item\n",
        "2.   List item\n",
        "\n"
      ]
    },
    {
      "cell_type": "markdown",
      "metadata": {
        "id": "Qlpin3u1mc-a"
      },
      "source": [
        "####**Dimensión:** \n",
        "\n",
        "Tomemos un ejemplo de caja para explicar esto. Una caja simple puede tener tres dimensiones de ancho, largo y profundidad (o altura). De manera similar, en la ciencia de datos trabajaremos conjuntos de datos de \"N\" dimensiones. \"N\" podría ser cualquier número\n",
        "\n",
        "\n",
        "![image name](https://dphi-courses.s3.ap-south-1.amazonaws.com/introduction-to-numpy/dimensions.png)\n",
        "\n"
      ]
    },
    {
      "cell_type": "markdown",
      "metadata": {
        "id": "EbgF-cNp3N1q"
      },
      "source": [
        "\n",
        "####**Indexes:** \n",
        "\n",
        "Indexes are required to access an element in a Data Structure.\n",
        "\n",
        "![image name](https://dphi-courses.s3.ap-south-1.amazonaws.com/introduction-to-numpy/index+humans+and+python.png)"
      ]
    },
    {
      "cell_type": "markdown",
      "metadata": {
        "id": "oVqWEpQzmqv1"
      },
      "source": [
        "For example, suppose we have this array:"
      ]
    },
    {
      "cell_type": "code",
      "metadata": {
        "id": "MIWfP4Lik6dN"
      },
      "source": [
        "a = [1,2,3,4]"
      ],
      "execution_count": null,
      "outputs": []
    },
    {
      "cell_type": "markdown",
      "metadata": {
        "id": "9NigILGSlE48"
      },
      "source": [
        "Now, suppose we want to access (refer to) the number 3 in this data structure. We can do it using a single index like so:\n"
      ]
    },
    {
      "cell_type": "code",
      "metadata": {
        "id": "0eczFHQflIT1",
        "colab": {
          "base_uri": "https://localhost:8080/"
        },
        "outputId": "1ca91baf-2409-44b3-a1b7-18f10de9865d"
      },
      "source": [
        "a[2]"
      ],
      "execution_count": null,
      "outputs": [
        {
          "output_type": "execute_result",
          "data": {
            "text/plain": [
              "3"
            ]
          },
          "metadata": {},
          "execution_count": 2
        }
      ]
    },
    {
      "cell_type": "code",
      "metadata": {
        "id": "gSAXNeR4mF_M"
      },
      "source": [
        "#As another example, suppose we have this 2d-array:\n",
        " \n",
        "dd = [\n",
        "[1,2,3],\n",
        "[4,5,6],\n",
        "[7,8,9]\n",
        "] "
      ],
      "execution_count": null,
      "outputs": []
    },
    {
      "cell_type": "markdown",
      "metadata": {
        "id": "HC00vVscmLIP"
      },
      "source": [
        "Now, suppose we want to access (refer to) the number 3 in this data structure. In this case, we need two indexes to locate the specific element."
      ]
    },
    {
      "cell_type": "code",
      "metadata": {
        "id": "mlaLIpKdmQXT",
        "colab": {
          "base_uri": "https://localhost:8080/"
        },
        "outputId": "6aee0d2c-36b4-4cfd-c5d1-f68cc4547f97"
      },
      "source": [
        "dd[0][2]"
      ],
      "execution_count": null,
      "outputs": [
        {
          "output_type": "execute_result",
          "data": {
            "text/plain": [
              "3"
            ]
          },
          "metadata": {},
          "execution_count": 4
        }
      ]
    },
    {
      "cell_type": "markdown",
      "metadata": {
        "id": "cqAsnbKDk9tV"
      },
      "source": [
        "\n",
        "\n",
        "\n",
        "#### **Rank:** (rango)\n",
        "\n",
        "\n",
        "El rango de un tensor se refiere al número de dimensiones presentes dentro del tensor.\n",
        "\n",
        "**Rank & Indexes:**\n",
        "\n",
        "El rango de un tensor nos dice cuántos índices se requieren para acceder (referirse a) un elemento de datos específico contenido dentro de la estructura de datos del tensor.\n",
        "\n",
        "El rango de un tensor nos dice cuántos índices se necesitan para referirse a un elemento específico dentro del tensor."
      ]
    },
    {
      "cell_type": "markdown",
      "metadata": {
        "id": "JQVfVCCnnLoG"
      },
      "source": [
        "####**Tensor Axes(Ejes) Ejemplo**\n",
        "Veamos algunos ejemplos para hacer esto sólido. Consideraremos el mismo tensor dd que antes:"
      ]
    },
    {
      "cell_type": "code",
      "metadata": {
        "id": "5taicCVynI-q"
      },
      "source": [
        "dd = [\n",
        "[1,2,3],\n",
        "[4,5,6],\n",
        "[7,8,9]\n",
        "]"
      ],
      "execution_count": null,
      "outputs": []
    },
    {
      "cell_type": "markdown",
      "metadata": {
        "id": "HTM0AWnHnXz9"
      },
      "source": [
        "Each element along the first axis, is an array:"
      ]
    },
    {
      "cell_type": "code",
      "metadata": {
        "id": "Vi3x_huDnbmO",
        "colab": {
          "base_uri": "https://localhost:8080/"
        },
        "outputId": "18c7e13d-f445-4d83-c0da-be1127ac4247"
      },
      "source": [
        "dd[0]"
      ],
      "execution_count": null,
      "outputs": [
        {
          "output_type": "execute_result",
          "data": {
            "text/plain": [
              "[1, 2, 3]"
            ]
          },
          "metadata": {},
          "execution_count": 7
        }
      ]
    },
    {
      "cell_type": "code",
      "metadata": {
        "id": "6gFrQ3iAnftJ",
        "colab": {
          "base_uri": "https://localhost:8080/"
        },
        "outputId": "ad22f75e-dc2e-4baf-c12f-14cc9c31e9b1"
      },
      "source": [
        "dd[1]"
      ],
      "execution_count": null,
      "outputs": [
        {
          "output_type": "execute_result",
          "data": {
            "text/plain": [
              "[4, 5, 6]"
            ]
          },
          "metadata": {},
          "execution_count": 9
        }
      ]
    },
    {
      "cell_type": "code",
      "metadata": {
        "id": "sLyrskronhGT",
        "colab": {
          "base_uri": "https://localhost:8080/"
        },
        "outputId": "06403f4e-426e-41a0-9fe9-f478533ef454"
      },
      "source": [
        "dd[2]"
      ],
      "execution_count": null,
      "outputs": [
        {
          "output_type": "execute_result",
          "data": {
            "text/plain": [
              "[7, 8, 9]"
            ]
          },
          "metadata": {},
          "execution_count": 10
        }
      ]
    },
    {
      "cell_type": "markdown",
      "metadata": {
        "id": "yDEMCy-wnmUU"
      },
      "source": [
        "Each element along the second axis, is a number:"
      ]
    },
    {
      "cell_type": "code",
      "metadata": {
        "id": "UeQbTugrnp_B",
        "colab": {
          "base_uri": "https://localhost:8080/"
        },
        "outputId": "2187d7b7-2308-4ea3-ae1a-21c3a335d411"
      },
      "source": [
        "dd[0][0]"
      ],
      "execution_count": null,
      "outputs": [
        {
          "output_type": "execute_result",
          "data": {
            "text/plain": [
              "1"
            ]
          },
          "metadata": {},
          "execution_count": 11
        }
      ]
    },
    {
      "cell_type": "code",
      "metadata": {
        "id": "d_ffimfUnuEu",
        "colab": {
          "base_uri": "https://localhost:8080/"
        },
        "outputId": "8d334da1-a0b2-4b3b-eaca-defe210d0e1c"
      },
      "source": [
        "dd[1][0]"
      ],
      "execution_count": null,
      "outputs": [
        {
          "output_type": "execute_result",
          "data": {
            "text/plain": [
              "4"
            ]
          },
          "metadata": {},
          "execution_count": 12
        }
      ]
    },
    {
      "cell_type": "code",
      "metadata": {
        "id": "e-1zZWL1oDHp",
        "colab": {
          "base_uri": "https://localhost:8080/"
        },
        "outputId": "0d870bd3-f410-4686-b53a-575701c1e352"
      },
      "source": [
        "dd[2][0]"
      ],
      "execution_count": null,
      "outputs": [
        {
          "output_type": "execute_result",
          "data": {
            "text/plain": [
              "7"
            ]
          },
          "metadata": {},
          "execution_count": 13
        }
      ]
    },
    {
      "cell_type": "code",
      "metadata": {
        "id": "HxQB_EvnoFLD",
        "colab": {
          "base_uri": "https://localhost:8080/"
        },
        "outputId": "ba3b3bf4-cd1b-4d9c-a358-fce1dd3c4234"
      },
      "source": [
        "dd[0][1]"
      ],
      "execution_count": null,
      "outputs": [
        {
          "output_type": "execute_result",
          "data": {
            "text/plain": [
              "2"
            ]
          },
          "metadata": {},
          "execution_count": 14
        }
      ]
    },
    {
      "cell_type": "code",
      "metadata": {
        "id": "hde4G959oHCG",
        "colab": {
          "base_uri": "https://localhost:8080/"
        },
        "outputId": "7eb34953-9230-4414-fd3e-ac989d88ac68"
      },
      "source": [
        "dd[1][1]"
      ],
      "execution_count": null,
      "outputs": [
        {
          "output_type": "execute_result",
          "data": {
            "text/plain": [
              "5"
            ]
          },
          "metadata": {},
          "execution_count": 15
        }
      ]
    },
    {
      "cell_type": "code",
      "metadata": {
        "id": "Q3AJ53k7oJBt",
        "colab": {
          "base_uri": "https://localhost:8080/"
        },
        "outputId": "3be56992-ab98-47ff-d037-d8cee84784b0"
      },
      "source": [
        "dd[2][1]"
      ],
      "execution_count": null,
      "outputs": [
        {
          "output_type": "execute_result",
          "data": {
            "text/plain": [
              "8"
            ]
          },
          "metadata": {},
          "execution_count": 16
        }
      ]
    },
    {
      "cell_type": "code",
      "metadata": {
        "id": "EpFk6rA-oLu6",
        "colab": {
          "base_uri": "https://localhost:8080/"
        },
        "outputId": "091698db-c36d-4982-b8f7-906a7895ca6d"
      },
      "source": [
        "dd[0][2]"
      ],
      "execution_count": null,
      "outputs": [
        {
          "output_type": "execute_result",
          "data": {
            "text/plain": [
              "3"
            ]
          },
          "metadata": {},
          "execution_count": 17
        }
      ]
    },
    {
      "cell_type": "code",
      "metadata": {
        "id": "pTI6JgqpoNdv",
        "colab": {
          "base_uri": "https://localhost:8080/"
        },
        "outputId": "8fa6713c-b717-4ba7-b49a-8e4fae4515e7"
      },
      "source": [
        "dd[1][2]"
      ],
      "execution_count": null,
      "outputs": [
        {
          "output_type": "execute_result",
          "data": {
            "text/plain": [
              "6"
            ]
          },
          "metadata": {},
          "execution_count": 18
        }
      ]
    },
    {
      "cell_type": "code",
      "metadata": {
        "id": "POtrABg_oPhy",
        "colab": {
          "base_uri": "https://localhost:8080/"
        },
        "outputId": "b635aff1-7a2b-4d9b-e559-1f32a3b6df34"
      },
      "source": [
        "dd[2][2]"
      ],
      "execution_count": null,
      "outputs": [
        {
          "output_type": "execute_result",
          "data": {
            "text/plain": [
              "9"
            ]
          },
          "metadata": {},
          "execution_count": 19
        }
      ]
    },
    {
      "cell_type": "markdown",
      "metadata": {
        "id": "8wcAMOtWoabU"
      },
      "source": [
        "Tenga en cuenta que, con tensores, los elementos del último eje son siempre números. Cada otro eje contendrá matrices n-dimensionales. Esto es lo que vemos en este ejemplo, pero esta idea se generaliza.\n",
        "\n",
        "El rango de un tensor nos dice cuántos ejes tiene un tensor, y la longitud de estos ejes nos lleva al concepto muy importante conocido como la forma de un tensor."
      ]
    },
    {
      "cell_type": "markdown",
      "metadata": {
        "id": "z5eNCBLTogsK"
      },
      "source": [
        "### **Shape(forma) of a Tensor**\n",
        "\n",
        "La forma(shape) de un tensor está determinada por la longitud de cada eje, por lo que si conocemos la forma de un tensor dado, entonces conocemos la longitud de cada eje, y esto nos dice cuántos índices hay disponibles a lo largo de cada eje.\n",
        "\n",
        "La forma de un tensor nos da la longitud de cada eje del tensor. Consideremos el mismo tensor dd que antes:"
      ]
    },
    {
      "cell_type": "code",
      "metadata": {
        "id": "RmGm59LLoh38"
      },
      "source": [
        "# Let's say we have a 2D array\n",
        "dd = [\n",
        "[1,2,3],\n",
        "[4,5,6],\n",
        "[7,8,9]\n",
        "]\n"
      ],
      "execution_count": null,
      "outputs": []
    },
    {
      "cell_type": "code",
      "metadata": {
        "id": "vfVhTkuWoxUT",
        "colab": {
          "base_uri": "https://localhost:8080/"
        },
        "outputId": "8e8174eb-2097-424a-de5b-64706e3c05e9"
      },
      "source": [
        "#To work with this tensor's shape, we’ll create a tensor object like so:\n",
        "\n",
        "t = tf.constant(dd)      # constant() is a function that helps you create a constant tensor\n",
        "t"
      ],
      "execution_count": null,
      "outputs": [
        {
          "output_type": "execute_result",
          "data": {
            "text/plain": [
              "<tf.Tensor: shape=(3, 3), dtype=int32, numpy=\n",
              "array([[1, 2, 3],\n",
              "       [4, 5, 6],\n",
              "       [7, 8, 9]], dtype=int32)>"
            ]
          },
          "metadata": {},
          "execution_count": 23
        }
      ]
    },
    {
      "cell_type": "code",
      "metadata": {
        "id": "YUol5cwJwwu6",
        "colab": {
          "base_uri": "https://localhost:8080/"
        },
        "outputId": "4889d2a1-95a9-4f61-b932-a9e02eac3270"
      },
      "source": [
        "type(t)   # To get the type of object t"
      ],
      "execution_count": null,
      "outputs": [
        {
          "output_type": "execute_result",
          "data": {
            "text/plain": [
              "tensorflow.python.framework.ops.EagerTensor"
            ]
          },
          "metadata": {},
          "execution_count": 24
        }
      ]
    },
    {
      "cell_type": "code",
      "metadata": {
        "id": "vi5Fx8_co_Mc",
        "colab": {
          "base_uri": "https://localhost:8080/"
        },
        "outputId": "7051d897-1451-43bc-830f-ff0c43970db4"
      },
      "source": [
        "# Now, we have a Tensor object, and so we can ask to see the tensor's shape:\n",
        "\n",
        "t.shape"
      ],
      "execution_count": null,
      "outputs": [
        {
          "output_type": "execute_result",
          "data": {
            "text/plain": [
              "TensorShape([3, 3])"
            ]
          },
          "metadata": {},
          "execution_count": 25
        }
      ]
    },
    {
      "cell_type": "markdown",
      "metadata": {
        "id": "P8JEb0w7q46f"
      },
      "source": [
        "# Tensor Operation Types\n",
        "Antes de sumergirnos en operaciones de tensor específicas, obtengamos una descripción general rápida del panorama al observar las principales categorías de operaciones que abarcan las operaciones que cubriremos. Tenemos las siguientes categorías de operaciones de alto nivel:\n",
        "\n",
        "1. Operaciones de remodelación\n",
        "2. Operaciones elementales\n",
        "3. Operaciones de reducción\n",
        "4. Operaciones de acceso"
      ]
    },
    {
      "cell_type": "markdown",
      "metadata": {
        "id": "D9h1U1JjrMw2"
      },
      "source": [
        "## Reshaping A Tensor In TensorFlow - Remodelación de un tensor en TensorFlow\n",
        "\n",
        "Veamos ahora todas las formas en que se puede remodelar este tensor ***t*** sin cambiar el rango:"
      ]
    },
    {
      "cell_type": "markdown",
      "metadata": {
        "id": "xBEAAKPOrd7X"
      },
      "source": [
        "Supongamos que tenemos el siguiente tensor:"
      ]
    },
    {
      "cell_type": "code",
      "metadata": {
        "id": "hTuY3m3hracX"
      },
      "source": [
        "t = tf.constant([\n",
        "    [1,1,1,1],\n",
        "    [2,2,2,2],\n",
        "    [3,3,3,3]\n",
        "], dtype=tf.float32)    # can also mention the type of the element we want in the tensor"
      ],
      "execution_count": null,
      "outputs": []
    },
    {
      "cell_type": "code",
      "metadata": {
        "id": "gKadLQDTrPJG",
        "colab": {
          "base_uri": "https://localhost:8080/"
        },
        "outputId": "929a1691-2035-4f94-9a6c-5f6a88f43a0c"
      },
      "source": [
        "reshaped_tensor = tf.reshape(t, [1,12])     # reshape is a function that helps to reshaping any ndarray or ndtensor\n",
        "print(reshaped_tensor)"
      ],
      "execution_count": null,
      "outputs": [
        {
          "output_type": "stream",
          "name": "stdout",
          "text": [
            "tf.Tensor([[1. 1. 1. 1. 2. 2. 2. 2. 3. 3. 3. 3.]], shape=(1, 12), dtype=float32)\n"
          ]
        }
      ]
    },
    {
      "cell_type": "code",
      "metadata": {
        "id": "yhRlCLL0rTZu",
        "colab": {
          "base_uri": "https://localhost:8080/"
        },
        "outputId": "24376b0f-dba7-4f40-9f44-bc4cc53e3dd7"
      },
      "source": [
        "reshaped_tensor = tf.reshape(t, [2,6])\n",
        "print(reshaped_tensor)"
      ],
      "execution_count": null,
      "outputs": [
        {
          "output_type": "stream",
          "name": "stdout",
          "text": [
            "tf.Tensor(\n",
            "[[1. 1. 1. 1. 2. 2.]\n",
            " [2. 2. 3. 3. 3. 3.]], shape=(2, 6), dtype=float32)\n"
          ]
        }
      ]
    },
    {
      "cell_type": "code",
      "metadata": {
        "id": "4eCFm3WXrj3s",
        "colab": {
          "base_uri": "https://localhost:8080/"
        },
        "outputId": "851f70c1-e9d2-4534-965d-36bdf0c58d55"
      },
      "source": [
        "reshaped_tensor = tf.reshape(t, [3,4])\n",
        "print(reshaped_tensor)"
      ],
      "execution_count": null,
      "outputs": [
        {
          "output_type": "stream",
          "name": "stdout",
          "text": [
            "tf.Tensor(\n",
            "[[1. 1. 1. 1.]\n",
            " [2. 2. 2. 2.]\n",
            " [3. 3. 3. 3.]], shape=(3, 4), dtype=float32)\n"
          ]
        }
      ]
    },
    {
      "cell_type": "markdown",
      "metadata": {
        "id": "SyM79z5nrouW"
      },
      "source": [
        "Usando la función ***`reshape()`***, podemos especificar la forma de fila x columna que estamos buscando. Observe cómo todas las formas tienen que dar cuenta de la cantidad de elementos en el tensor. En nuestro ejemplo esto es:\n",
        "\n",
        "\n",
        "```\n",
        "rows * columns = 12 elements\n",
        "```\n",
        "\n"
      ]
    },
    {
      "cell_type": "markdown",
      "metadata": {
        "id": "HaFhqZAGr4u8"
      },
      "source": [
        "Podemos usar las palabras intuitivas filas y columnas cuando tratamos con un tensor de rango 2. La lógica subyacente es la misma para los tenores de dimensiones superiores, aunque es posible que no podamos usar la intuición de filas y columnas en espacios de dimensiones superiores. Por ejemplo:"
      ]
    },
    {
      "cell_type": "code",
      "metadata": {
        "id": "5hUcfpbUr8m0",
        "colab": {
          "base_uri": "https://localhost:8080/"
        },
        "outputId": "5014b0e3-d648-4af3-e8be-f3be5d28f7e5"
      },
      "source": [
        "reshaped_tensor = tf.reshape(t, [2,2,3])\n",
        "print(reshaped_tensor)"
      ],
      "execution_count": null,
      "outputs": [
        {
          "output_type": "stream",
          "name": "stdout",
          "text": [
            "tf.Tensor(\n",
            "[[[1. 1. 1.]\n",
            "  [1. 2. 2.]]\n",
            "\n",
            " [[2. 2. 3.]\n",
            "  [3. 3. 3.]]], shape=(2, 2, 3), dtype=float32)\n"
          ]
        }
      ]
    },
    {
      "cell_type": "markdown",
      "metadata": {
        "id": "8mR14GbJsHrD"
      },
      "source": [
        "En este ejemplo, aumentamos el rango a 3, por lo que perdemos el concepto de filas y columnas. Sin embargo, el producto de los componentes de la forma (2,2,3) todavía tiene que ser igual al número de elementos en el tensor original (12)."
      ]
    },
    {
      "cell_type": "markdown",
      "metadata": {
        "id": "bH18ROyCsOYx"
      },
      "source": [
        "## Changing Shape By Squeezing And Unsqueezing - Cambiar de forma apretando y soltando\n",
        "La siguiente forma en que podemos cambiar la forma de nuestros tensores es apretándolos***(Squeezing)*** y soltándolos***(Unsqueezing)***.\n",
        "\n",
        "1. Al apretar un tensor se quitan las dimensiones o ejes que tienen una longitud de uno.\n",
        "2. Descomprimir un tensor agrega una dimensión con una longitud de uno.\n",
        "\n",
        "Estas funciones nos permiten ampliar o reducir el rango (número de dimensiones) de nuestro tensor. Veamos esto en acción."
      ]
    },
    {
      "cell_type": "code",
      "metadata": {
        "id": "vnxnybFDsbAi",
        "colab": {
          "base_uri": "https://localhost:8080/"
        },
        "outputId": "77638bc1-689a-43f4-dabf-ed7edceefbd7"
      },
      "source": [
        "print(tf.reshape(t, [1,12]))"
      ],
      "execution_count": null,
      "outputs": [
        {
          "output_type": "stream",
          "name": "stdout",
          "text": [
            "tf.Tensor([[1. 1. 1. 1. 2. 2. 2. 2. 3. 3. 3. 3.]], shape=(1, 12), dtype=float32)\n"
          ]
        }
      ]
    },
    {
      "cell_type": "markdown",
      "source": [
        ""
      ],
      "metadata": {
        "id": "HCgRPrleJ9T1"
      }
    },
    {
      "cell_type": "code",
      "metadata": {
        "id": "EzRm2kBqsbwY",
        "colab": {
          "base_uri": "https://localhost:8080/"
        },
        "outputId": "ecb901fb-6295-4fb9-bdf7-3e6c829e3be7"
      },
      "source": [
        "print(tf.reshape(t, [1,12]).shape)"
      ],
      "execution_count": null,
      "outputs": [
        {
          "output_type": "stream",
          "name": "stdout",
          "text": [
            "(1, 12)\n"
          ]
        }
      ]
    },
    {
      "cell_type": "code",
      "metadata": {
        "id": "OuytZnoMsf20",
        "colab": {
          "base_uri": "https://localhost:8080/"
        },
        "outputId": "1e1d4f7c-b8b9-4b9b-f535-5b81add56a55"
      },
      "source": [
        "# squeeze : longitud de uno\n",
        "print(tf.squeeze(tf.reshape(t, [1,12])))"
      ],
      "execution_count": null,
      "outputs": [
        {
          "output_type": "stream",
          "name": "stdout",
          "text": [
            "tf.Tensor([1. 1. 1. 1. 2. 2. 2. 2. 3. 3. 3. 3.], shape=(12,), dtype=float32)\n"
          ]
        }
      ]
    },
    {
      "cell_type": "code",
      "metadata": {
        "id": "-9YdRE4PsiQj",
        "colab": {
          "base_uri": "https://localhost:8080/"
        },
        "outputId": "77494320-3574-4684-d38a-89faef42fb03"
      },
      "source": [
        "print(tf.squeeze(tf.reshape(t, [1,12])).shape)"
      ],
      "execution_count": null,
      "outputs": [
        {
          "output_type": "stream",
          "name": "stdout",
          "text": [
            "(12,)\n"
          ]
        }
      ]
    },
    {
      "cell_type": "code",
      "source": [
        ""
      ],
      "metadata": {
        "id": "gBxla6HrXDde"
      },
      "execution_count": null,
      "outputs": []
    },
    {
      "cell_type": "markdown",
      "metadata": {
        "id": "ddubrHu1swqE"
      },
      "source": [
        "Veamos un caso de uso común para comprimir(***squeezing***) un tensor mediante la construcción de una ***función flatten***.\n",
        "\n",
        "## Flatten A Tensor - Aplanar un tensor\n",
        "Una operación de ***flatten(aplanamiento)*** en un tensor remodela el tensor para que tenga una forma que sea igual al número de elementos contenidos en el tensor. Esto es lo mismo que una matriz 1d de elementos.\n",
        "\n",
        "\n",
        "```\n",
        "Flattening a tensor means to remove all of the dimensions except for one.\n",
        "\n",
        "Flattening un tensor significa eliminar todas las dimensiones excepto una.\n",
        "```\n",
        "\n"
      ]
    },
    {
      "cell_type": "markdown",
      "metadata": {
        "id": "N3mb5Slps7fg"
      },
      "source": [
        "Let’s create a Python function called `flatten()`:"
      ]
    },
    {
      "cell_type": "code",
      "metadata": {
        "id": "Lr3z01VVtATw"
      },
      "source": [
        "def flatten(t):\n",
        "    t = tf.reshape(t, [1, -1])\n",
        "    t = tf.squeeze(t)\n",
        "    return t"
      ],
      "execution_count": null,
      "outputs": []
    },
    {
      "cell_type": "markdown",
      "metadata": {
        "id": "teqAjgCYtDcn"
      },
      "source": [
        "The flatten() function takes in a tensor ***t*** as an argument."
      ]
    },
    {
      "cell_type": "markdown",
      "metadata": {
        "id": "fhVS-WRgtHaE"
      },
      "source": [
        "Dado que el argumento ***t*** puede ser cualquier tensor, pasamos -1 como segundo argumento a la ***función reshape()***. En ***TensorFlow***, el -1 le dice a la ***función reshape()*** que averigüe cuál debe ser el valor según la cantidad de elementos contenidos dentro del tensor. Recuerda, la forma debe ser igual al producto de los valores de los componentes de la forma. Así es como ***TensorFlow*** puede averiguar cuál debería ser el valor, dado un 1 como primer argumento.\n",
        "\n",
        "Dado que nuestro tensor ***t*** tiene 12 elementos, la ***función reshape()*** puede determinar que se requiere un 12 para la longitud del segundo eje(***axis***).\n",
        "\n",
        "After squeezing, the first axis (axis-0) is removed, and we obtain our desired result, a 1d-array of length 12.\n",
        "\n",
        "Here's an example of this in action:\n",
        "\n"
      ]
    },
    {
      "cell_type": "code",
      "metadata": {
        "id": "l77_ZqottKim",
        "colab": {
          "base_uri": "https://localhost:8080/"
        },
        "outputId": "9da97a3e-e24e-45c9-ef9d-bf0943b57d4f"
      },
      "source": [
        "t = tf.ones([4, 3])\n",
        "t"
      ],
      "execution_count": null,
      "outputs": [
        {
          "output_type": "execute_result",
          "data": {
            "text/plain": [
              "<tf.Tensor: shape=(4, 3), dtype=float32, numpy=\n",
              "array([[1., 1., 1.],\n",
              "       [1., 1., 1.],\n",
              "       [1., 1., 1.],\n",
              "       [1., 1., 1.]], dtype=float32)>"
            ]
          },
          "metadata": {},
          "execution_count": 41
        }
      ]
    },
    {
      "cell_type": "code",
      "metadata": {
        "id": "TLRudZRvtNir",
        "colab": {
          "base_uri": "https://localhost:8080/"
        },
        "outputId": "a670fb6d-6659-4cb6-ffca-78079a2c4f46"
      },
      "source": [
        "flatten(t)"
      ],
      "execution_count": null,
      "outputs": [
        {
          "output_type": "execute_result",
          "data": {
            "text/plain": [
              "<tf.Tensor: shape=(12,), dtype=float32, numpy=array([1., 1., 1., 1., 1., 1., 1., 1., 1., 1., 1., 1.], dtype=float32)>"
            ]
          },
          "metadata": {},
          "execution_count": 42
        }
      ]
    },
    {
      "cell_type": "markdown",
      "metadata": {
        "id": "DGelUFNhtUdE"
      },
      "source": [
        "## Concatenating Tensors - Tensores de Concatenación\n",
        "Combinamos tensores usando la función `concat()`, y el tensor resultante tendrá una forma que depende de la forma de los dos tensores de entrada.\n",
        "\n",
        "Supongamos que tenemos dos tensores:"
      ]
    },
    {
      "cell_type": "code",
      "metadata": {
        "id": "xh149w9Xtb8B"
      },
      "source": [
        "t1 = tf.constant([\n",
        "    [1,2],\n",
        "    [3,4]\n",
        "])\n",
        "\n",
        "t2 = tf.constant([\n",
        "    [5,6],\n",
        "    [7,8]\n",
        "])"
      ],
      "execution_count": null,
      "outputs": []
    },
    {
      "cell_type": "markdown",
      "metadata": {
        "id": "GmoMicRPthkY"
      },
      "source": [
        "We can combine t1 and t2 row-wise (axis-0) in the following way:"
      ]
    },
    {
      "cell_type": "code",
      "metadata": {
        "id": "vdk3MiUktkY7",
        "colab": {
          "base_uri": "https://localhost:8080/"
        },
        "outputId": "5f188572-5231-4649-bad8-eaa8a7caea15"
      },
      "source": [
        "tf.concat((t1, t2), axis = 0)  # concat() helps you to concatenate two tensors according to the given axis"
      ],
      "execution_count": null,
      "outputs": [
        {
          "output_type": "execute_result",
          "data": {
            "text/plain": [
              "<tf.Tensor: shape=(4, 2), dtype=int32, numpy=\n",
              "array([[1, 2],\n",
              "       [3, 4],\n",
              "       [5, 6],\n",
              "       [7, 8]], dtype=int32)>"
            ]
          },
          "metadata": {},
          "execution_count": 45
        }
      ]
    },
    {
      "cell_type": "markdown",
      "metadata": {
        "id": "oRGRXkvQtmuf"
      },
      "source": [
        "We can combine them column-wise (axis-1) like this:"
      ]
    },
    {
      "cell_type": "code",
      "metadata": {
        "id": "uUs5bMGOtpID",
        "colab": {
          "base_uri": "https://localhost:8080/"
        },
        "outputId": "871e66c9-2d80-44b5-bd1a-0583c8da5705"
      },
      "source": [
        "tf.concat((t1, t2), axis = 1)"
      ],
      "execution_count": null,
      "outputs": [
        {
          "output_type": "execute_result",
          "data": {
            "text/plain": [
              "<tf.Tensor: shape=(2, 4), dtype=int32, numpy=\n",
              "array([[1, 2, 5, 6],\n",
              "       [3, 4, 7, 8]], dtype=int32)>"
            ]
          },
          "metadata": {},
          "execution_count": 46
        }
      ]
    },
    {
      "cell_type": "markdown",
      "metadata": {
        "id": "HRUWHLgCts20"
      },
      "source": [
        "Cuando concatenamos tensores, aumentamos el número de elementos contenidos en el tensor resultante. Esto hace que los valores de los componentes dentro de la forma (longitudes de los ejes(***axis***)) se ajusten para tener en cuenta los elementos adicionales."
      ]
    },
    {
      "cell_type": "code",
      "metadata": {
        "id": "U6uPgjPatvz6",
        "colab": {
          "base_uri": "https://localhost:8080/"
        },
        "outputId": "c50bac26-1621-42d1-e2b2-b810922cd72c"
      },
      "source": [
        "tf.concat((t1, t2), axis = 0).shape"
      ],
      "execution_count": null,
      "outputs": [
        {
          "output_type": "execute_result",
          "data": {
            "text/plain": [
              "TensorShape([4, 2])"
            ]
          },
          "metadata": {},
          "execution_count": 47
        }
      ]
    },
    {
      "cell_type": "code",
      "metadata": {
        "id": "16P6eplXtx5G",
        "colab": {
          "base_uri": "https://localhost:8080/"
        },
        "outputId": "1691440a-790c-4542-e981-662b480305c4"
      },
      "source": [
        "tf.concat((t1, t2), axis = 1).shape"
      ],
      "execution_count": null,
      "outputs": [
        {
          "output_type": "execute_result",
          "data": {
            "text/plain": [
              "TensorShape([2, 4])"
            ]
          },
          "metadata": {},
          "execution_count": 48
        }
      ]
    },
    {
      "cell_type": "markdown",
      "metadata": {
        "id": "Z42XLIvSt48P"
      },
      "source": [
        "# Conclusion About Reshaping Tensors - Conclusión sobre la remodelación de tensores\n",
        "\n",
        "Ahora deberíamos tener una buena comprensión de lo que significa remodelar un tensor. Cada vez que cambiamos la forma de un tensor, se dice que estamos remodelando(***reshaping***) el tensor."
      ]
    },
    {
      "cell_type": "markdown",
      "metadata": {
        "id": "xZRIIp3Y5T4f"
      },
      "source": [
        "Reference: Deeplizard"
      ]
    }
  ]
}